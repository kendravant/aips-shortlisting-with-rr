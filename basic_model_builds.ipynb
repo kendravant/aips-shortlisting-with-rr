{
 "cells": [
  {
   "cell_type": "markdown",
   "metadata": {},
   "source": [
    "# Basic models on ynp feature set for Role Requirements\n",
    "\n",
    "* Build the ynp 1-hot feature set from the Presto extraction\n",
    "* Try logistic regression, tree, random classifier, xgboost\n",
    "* SVM takes too long on this size of dataset"
   ]
  },
  {
   "cell_type": "code",
   "execution_count": 12,
   "metadata": {},
   "outputs": [],
   "source": [
    "import pandas as pd\n",
    "import numpy as np\n",
    "from scipy.sparse import csr_matrix\n",
    "from sklearn.linear_model import LogisticRegression\n",
    "from sklearn.ensemble import RandomForestClassifier\n",
    "from sklearn import svm\n",
    "from sklearn import tree\n",
    "import time\n",
    "import xgboost as xgb\n",
    "\n",
    "#from sqlalchemy.engine import create_engine"
   ]
  },
  {
   "cell_type": "code",
   "execution_count": null,
   "metadata": {},
   "outputs": [],
   "source": [
    "# Connect to presto if we want to pick up the data directly\n",
    "engine = create_engine('presto://searchquality-presto.dataservices.prod.outfra.xyz:8889/hive/default')\n",
    "conn=engine.connect()"
   ]
  },
  {
   "cell_type": "code",
   "execution_count": 2,
   "metadata": {},
   "outputs": [],
   "source": [
    "# Load the data from a local file extracted from Presto\n",
    "# Sort by application ID in order to construct the sparse matrix correctly later\n",
    "df = pd.read_csv('/home/ubuntu/data/rr/ynp_training_data.csv')\n",
    "df.sort_values(by=['application_id'], inplace = True)\n",
    "df = df.reset_index(drop=True)"
   ]
  },
  {
   "cell_type": "code",
   "execution_count": 4,
   "metadata": {},
   "outputs": [
    {
     "name": "stdout",
     "output_type": "stream",
     "text": [
      "8472958\n"
     ]
    }
   ],
   "source": [
    "# Building the sparse matrix requires us to know how many features are present in each case\n",
    "# We also need the rolled up case by case outcome\n",
    "r = df.groupby(['application_id','outcome'], as_index = False)['feature_id'].count()\n",
    "print('There are ', len(r), ' cases in total')"
   ]
  },
  {
   "cell_type": "code",
   "execution_count": 3,
   "metadata": {},
   "outputs": [
    {
     "data": {
      "text/html": [
       "<div>\n",
       "<style>\n",
       "    .dataframe thead tr:only-child th {\n",
       "        text-align: right;\n",
       "    }\n",
       "\n",
       "    .dataframe thead th {\n",
       "        text-align: left;\n",
       "    }\n",
       "\n",
       "    .dataframe tbody tr th {\n",
       "        vertical-align: top;\n",
       "    }\n",
       "</style>\n",
       "<table border=\"1\" class=\"dataframe\">\n",
       "  <thead>\n",
       "    <tr style=\"text-align: right;\">\n",
       "      <th></th>\n",
       "      <th>application_id</th>\n",
       "      <th>job_id</th>\n",
       "      <th>prospect_id</th>\n",
       "      <th>listing_id</th>\n",
       "      <th>outcome</th>\n",
       "      <th>feature_id</th>\n",
       "    </tr>\n",
       "  </thead>\n",
       "  <tbody>\n",
       "    <tr>\n",
       "      <th>0</th>\n",
       "      <td>600663296</td>\n",
       "      <td>30635329</td>\n",
       "      <td>81273229</td>\n",
       "      <td>2332144</td>\n",
       "      <td>Rejected</td>\n",
       "      <td>200001</td>\n",
       "    </tr>\n",
       "    <tr>\n",
       "      <th>1</th>\n",
       "      <td>600663296</td>\n",
       "      <td>30635329</td>\n",
       "      <td>81273229</td>\n",
       "      <td>2332144</td>\n",
       "      <td>Rejected</td>\n",
       "      <td>200396</td>\n",
       "    </tr>\n",
       "    <tr>\n",
       "      <th>2</th>\n",
       "      <td>600663296</td>\n",
       "      <td>30635329</td>\n",
       "      <td>81273229</td>\n",
       "      <td>2332144</td>\n",
       "      <td>Rejected</td>\n",
       "      <td>201482</td>\n",
       "    </tr>\n",
       "    <tr>\n",
       "      <th>3</th>\n",
       "      <td>600705149</td>\n",
       "      <td>30635329</td>\n",
       "      <td>81302286</td>\n",
       "      <td>2332144</td>\n",
       "      <td>Rejected</td>\n",
       "      <td>201482</td>\n",
       "    </tr>\n",
       "    <tr>\n",
       "      <th>4</th>\n",
       "      <td>600705149</td>\n",
       "      <td>30635329</td>\n",
       "      <td>81302286</td>\n",
       "      <td>2332144</td>\n",
       "      <td>Rejected</td>\n",
       "      <td>200001</td>\n",
       "    </tr>\n",
       "  </tbody>\n",
       "</table>\n",
       "</div>"
      ],
      "text/plain": [
       "   application_id    job_id  prospect_id  listing_id   outcome  feature_id\n",
       "0       600663296  30635329     81273229     2332144  Rejected      200001\n",
       "1       600663296  30635329     81273229     2332144  Rejected      200396\n",
       "2       600663296  30635329     81273229     2332144  Rejected      201482\n",
       "3       600705149  30635329     81302286     2332144  Rejected      201482\n",
       "4       600705149  30635329     81302286     2332144  Rejected      200001"
      ]
     },
     "execution_count": 3,
     "metadata": {},
     "output_type": "execute_result"
    }
   ],
   "source": [
    "df.head()"
   ]
  },
  {
   "cell_type": "code",
   "execution_count": 5,
   "metadata": {},
   "outputs": [
    {
     "data": {
      "text/html": [
       "<div>\n",
       "<style>\n",
       "    .dataframe thead tr:only-child th {\n",
       "        text-align: right;\n",
       "    }\n",
       "\n",
       "    .dataframe thead th {\n",
       "        text-align: left;\n",
       "    }\n",
       "\n",
       "    .dataframe tbody tr th {\n",
       "        vertical-align: top;\n",
       "    }\n",
       "</style>\n",
       "<table border=\"1\" class=\"dataframe\">\n",
       "  <thead>\n",
       "    <tr style=\"text-align: right;\">\n",
       "      <th></th>\n",
       "      <th>application_id</th>\n",
       "      <th>outcome</th>\n",
       "      <th>feature_id</th>\n",
       "    </tr>\n",
       "  </thead>\n",
       "  <tbody>\n",
       "    <tr>\n",
       "      <th>0</th>\n",
       "      <td>600663296</td>\n",
       "      <td>Rejected</td>\n",
       "      <td>3</td>\n",
       "    </tr>\n",
       "    <tr>\n",
       "      <th>1</th>\n",
       "      <td>600705149</td>\n",
       "      <td>Rejected</td>\n",
       "      <td>3</td>\n",
       "    </tr>\n",
       "    <tr>\n",
       "      <th>2</th>\n",
       "      <td>601056650</td>\n",
       "      <td>Rejected</td>\n",
       "      <td>3</td>\n",
       "    </tr>\n",
       "    <tr>\n",
       "      <th>3</th>\n",
       "      <td>601111513</td>\n",
       "      <td>Rejected</td>\n",
       "      <td>3</td>\n",
       "    </tr>\n",
       "    <tr>\n",
       "      <th>4</th>\n",
       "      <td>601227968</td>\n",
       "      <td>Shortlisted</td>\n",
       "      <td>3</td>\n",
       "    </tr>\n",
       "  </tbody>\n",
       "</table>\n",
       "</div>"
      ],
      "text/plain": [
       "   application_id      outcome  feature_id\n",
       "0       600663296     Rejected           3\n",
       "1       600705149     Rejected           3\n",
       "2       601056650     Rejected           3\n",
       "3       601111513     Rejected           3\n",
       "4       601227968  Shortlisted           3"
      ]
     },
     "execution_count": 5,
     "metadata": {},
     "output_type": "execute_result"
    }
   ],
   "source": [
    "r.head()"
   ]
  },
  {
   "cell_type": "code",
   "execution_count": 6,
   "metadata": {},
   "outputs": [
    {
     "data": {
      "text/plain": [
       "Rejected       5703940\n",
       "Shortlisted    2769018\n",
       "Name: outcome, dtype: int64"
      ]
     },
     "execution_count": 6,
     "metadata": {},
     "output_type": "execute_result"
    }
   ],
   "source": [
    "# Check the balance of the set\n",
    "r.outcome.value_counts()"
   ]
  },
  {
   "cell_type": "code",
   "execution_count": 7,
   "metadata": {},
   "outputs": [
    {
     "data": {
      "text/plain": [
       "0.6731934703323208"
      ]
     },
     "execution_count": 7,
     "metadata": {},
     "output_type": "execute_result"
    }
   ],
   "source": [
    "# Calculate the baseline accuracy from predicting all 'Rejected'\n",
    "5703940/(len(r))"
   ]
  },
  {
   "cell_type": "code",
   "execution_count": 8,
   "metadata": {},
   "outputs": [
    {
     "data": {
      "text/plain": [
       "<8472958x2496 sparse matrix of type '<class 'numpy.int64'>'\n",
       "\twith 32581526 stored elements in Compressed Sparse Row format>"
      ]
     },
     "execution_count": 8,
     "metadata": {},
     "output_type": "execute_result"
    }
   ],
   "source": [
    "# Construct the sparse matrix from all cases\n",
    "data    = np.ones((len(df),), dtype=int)\n",
    "indptr  = np.concatenate([np.array([0]), np.cumsum(np.array(r.feature_id))])  # first element is zero, subsequent elements are indptr[i-1] + num_features in row\n",
    "indices = np.array(df.feature_id-200000)\n",
    "\n",
    "N = csr_matrix((data, indices, indptr))\n",
    "N"
   ]
  },
  {
   "cell_type": "code",
   "execution_count": 9,
   "metadata": {},
   "outputs": [],
   "source": [
    "# Quick and nasty split into training and testing sets\n",
    "X_train = N[0:len(r.feature_id)-500001]\n",
    "y_train = r.outcome.iloc[0:len(r.feature_id)-500001]\n",
    "\n",
    "X_test = N[(len(r.feature_id)-500001):-1]\n",
    "y_test = r.outcome.iloc[(len(r.feature_id)-500001):-1]"
   ]
  },
  {
   "cell_type": "code",
   "execution_count": null,
   "metadata": {},
   "outputs": [],
   "source": [
    "# Support Vector Machine\n",
    "# Did not complete - likely to be extremely slow on a dataset of this size\n",
    "svm_mo = svm.SVC()\n",
    "svm_mo.fit(X_train, y_train)"
   ]
  },
  {
   "cell_type": "code",
   "execution_count": null,
   "metadata": {},
   "outputs": [],
   "source": [
    "# Random Forest\n",
    "rf_mo = RandomForestClassifier(n_estimators=10)\n",
    "rf_mo.fit(X_train, y_train)"
   ]
  },
  {
   "cell_type": "code",
   "execution_count": 25,
   "metadata": {},
   "outputs": [
    {
     "name": "stdout",
     "output_type": "stream",
     "text": [
      "Time to train  892.9278666973114\n"
     ]
    }
   ],
   "source": [
    "# Decision Tree\n",
    "t0 = time.time()\n",
    "\n",
    "tree_mo = tree.DecisionTreeClassifier()\n",
    "tree_mo.fit(X_train[0:4000000],y_train[0:4000000])\n",
    "\n",
    "print('Time to train ', time.time() - t0)"
   ]
  },
  {
   "cell_type": "code",
   "execution_count": 22,
   "metadata": {},
   "outputs": [
    {
     "name": "stdout",
     "output_type": "stream",
     "text": [
      "Time to train  338.7265374660492\n"
     ]
    }
   ],
   "source": [
    "# Logistic Regression\n",
    "t0 = time.time()\n",
    "\n",
    "logreg = LogisticRegression()\n",
    "logreg.fit(X_train, y_train)\n",
    "\n",
    "print('Time to train ', time.time() - t0)"
   ]
  },
  {
   "cell_type": "code",
   "execution_count": null,
   "metadata": {},
   "outputs": [],
   "source": [
    "# xgboost\n",
    "\n",
    "train_binary_labels = (r.outcome.iloc[0:len(r.feature_id)-500001] == 'Shortlisted').astype('int')\n",
    "test_binary_labels = (r.outcome.iloc[(len(r.feature_id)-500001):-1] == 'Shortlisted').astype('int')\n",
    "\n",
    "dtrain = xgb.DMatrix(N[0:len(r.feature_id)-500001], label = train_binary_labels)\n",
    "dtest = xgb.DMatrix(N[(len(r.feature_id)-500001):-1], label = test_binary_labels)\n",
    "\n",
    "\n",
    "param = {'max_depth': 2, 'eta': 1, 'silent': 1, 'objective': 'binary:logistic', 'eval':'auc'}\n",
    "evallist = [(dtest, 'eval'), (dtrain, 'train')]\n",
    "\n",
    "num_round = 800\n",
    "bst = xgb.train(param, dtrain, num_round, evallist, verbose_eval=20)"
   ]
  },
  {
   "cell_type": "code",
   "execution_count": 26,
   "metadata": {},
   "outputs": [
    {
     "data": {
      "text/plain": [
       "0.65631799999999996"
      ]
     },
     "execution_count": 26,
     "metadata": {},
     "output_type": "execute_result"
    }
   ],
   "source": [
    "tree_mo.score(X_test, y_test)"
   ]
  },
  {
   "cell_type": "code",
   "execution_count": 27,
   "metadata": {},
   "outputs": [
    {
     "data": {
      "text/plain": [
       "array(['Rejected', 'Rejected', 'Rejected', ..., 'Rejected', 'Rejected',\n",
       "       'Rejected'], dtype=object)"
      ]
     },
     "execution_count": 27,
     "metadata": {},
     "output_type": "execute_result"
    }
   ],
   "source": [
    "score = tree_mo.predict(X_test)\n",
    "score"
   ]
  },
  {
   "cell_type": "code",
   "execution_count": 28,
   "metadata": {},
   "outputs": [],
   "source": [
    "unique_elements, counts_elements = np.unique(score, return_counts=True)"
   ]
  },
  {
   "cell_type": "code",
   "execution_count": 29,
   "metadata": {},
   "outputs": [
    {
     "data": {
      "text/plain": [
       "array(['Rejected', 'Shortlisted'], dtype=object)"
      ]
     },
     "execution_count": 29,
     "metadata": {},
     "output_type": "execute_result"
    }
   ],
   "source": [
    "unique_elements"
   ]
  },
  {
   "cell_type": "code",
   "execution_count": 30,
   "metadata": {},
   "outputs": [
    {
     "data": {
      "text/plain": [
       "array([430819,  69181])"
      ]
     },
     "execution_count": 30,
     "metadata": {},
     "output_type": "execute_result"
    }
   ],
   "source": [
    "counts_elements"
   ]
  },
  {
   "cell_type": "code",
   "execution_count": 34,
   "metadata": {},
   "outputs": [
    {
     "data": {
      "text/plain": [
       "0.861638"
      ]
     },
     "execution_count": 34,
     "metadata": {},
     "output_type": "execute_result"
    }
   ],
   "source": [
    "430819/(430819+69181)"
   ]
  },
  {
   "cell_type": "code",
   "execution_count": 32,
   "metadata": {},
   "outputs": [
    {
     "data": {
      "text/plain": [
       "Rejected       344524\n",
       "Shortlisted    155476\n",
       "Name: outcome, dtype: int64"
      ]
     },
     "execution_count": 32,
     "metadata": {},
     "output_type": "execute_result"
    }
   ],
   "source": [
    "y_test.value_counts()"
   ]
  },
  {
   "cell_type": "code",
   "execution_count": 33,
   "metadata": {},
   "outputs": [
    {
     "data": {
      "text/plain": [
       "0.689048"
      ]
     },
     "execution_count": 33,
     "metadata": {},
     "output_type": "execute_result"
    }
   ],
   "source": [
    "1-155476/(344524+155476)"
   ]
  },
  {
   "cell_type": "code",
   "execution_count": 36,
   "metadata": {},
   "outputs": [
    {
     "data": {
      "text/html": [
       "<div>\n",
       "<style>\n",
       "    .dataframe thead tr:only-child th {\n",
       "        text-align: right;\n",
       "    }\n",
       "\n",
       "    .dataframe thead th {\n",
       "        text-align: left;\n",
       "    }\n",
       "\n",
       "    .dataframe tbody tr th {\n",
       "        vertical-align: top;\n",
       "    }\n",
       "</style>\n",
       "<table border=\"1\" class=\"dataframe\">\n",
       "  <thead>\n",
       "    <tr style=\"text-align: right;\">\n",
       "      <th>col_0</th>\n",
       "      <th>Rejected</th>\n",
       "      <th>Shortlisted</th>\n",
       "    </tr>\n",
       "    <tr>\n",
       "      <th>outcome</th>\n",
       "      <th></th>\n",
       "      <th></th>\n",
       "    </tr>\n",
       "  </thead>\n",
       "  <tbody>\n",
       "    <tr>\n",
       "      <th>Rejected</th>\n",
       "      <td>301751</td>\n",
       "      <td>42773</td>\n",
       "    </tr>\n",
       "    <tr>\n",
       "      <th>Shortlisted</th>\n",
       "      <td>129068</td>\n",
       "      <td>26408</td>\n",
       "    </tr>\n",
       "  </tbody>\n",
       "</table>\n",
       "</div>"
      ],
      "text/plain": [
       "col_0        Rejected  Shortlisted\n",
       "outcome                           \n",
       "Rejected       301751        42773\n",
       "Shortlisted    129068        26408"
      ]
     },
     "execution_count": 36,
     "metadata": {},
     "output_type": "execute_result"
    }
   ],
   "source": [
    "pd.crosstab(y_test,score)"
   ]
  },
  {
   "cell_type": "code",
   "execution_count": null,
   "metadata": {},
   "outputs": [],
   "source": []
  }
 ],
 "metadata": {
  "kernelspec": {
   "display_name": "Python 3",
   "language": "python",
   "name": "python3"
  },
  "language_info": {
   "codemirror_mode": {
    "name": "ipython",
    "version": 3
   },
   "file_extension": ".py",
   "mimetype": "text/x-python",
   "name": "python",
   "nbconvert_exporter": "python",
   "pygments_lexer": "ipython3",
   "version": "3.5.2"
  }
 },
 "nbformat": 4,
 "nbformat_minor": 2
}
